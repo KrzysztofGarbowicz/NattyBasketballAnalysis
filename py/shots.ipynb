{
 "cells": [
  {
   "cell_type": "code",
   "execution_count": 1,
   "id": "65f7c486",
   "metadata": {},
   "outputs": [],
   "source": [
    "import numpy as np\n",
    "import pandas as pd"
   ]
  },
  {
   "cell_type": "code",
   "execution_count": 3,
   "id": "a1be24ce",
   "metadata": {
    "scrolled": true
   },
   "outputs": [
    {
     "data": {
      "text/plain": [
       "Index(['URL', 'GameType', 'Location', 'Date', 'Time', 'WinningTeam', 'Quarter',\n",
       "       'SecLeft', 'AwayTeam', 'AwayPlay', 'AwayScore', 'HomeTeam', 'HomePlay',\n",
       "       'HomeScore', 'Shooter', 'ShotType', 'ShotOutcome', 'ShotDist',\n",
       "       'Assister', 'Blocker', 'FoulType', 'Fouler', 'Fouled', 'Rebounder',\n",
       "       'ReboundType', 'ViolationPlayer', 'ViolationType', 'TimeoutTeam',\n",
       "       'FreeThrowShooter', 'FreeThrowOutcome', 'FreeThrowNum', 'EnterGame',\n",
       "       'LeaveGame', 'TurnoverPlayer', 'TurnoverType', 'TurnoverCause',\n",
       "       'TurnoverCauser', 'JumpballAwayPlayer', 'JumpballHomePlayer',\n",
       "       'JumpballPoss', 'Unnamed: 40'],\n",
       "      dtype='object')"
      ]
     },
     "execution_count": 3,
     "metadata": {},
     "output_type": "execute_result"
    }
   ],
   "source": [
    "data_pbp = pd.read_csv('data/2019-20_pbp.csv')\n",
    "data_pbp.columns"
   ]
  },
  {
   "cell_type": "code",
   "execution_count": 8,
   "id": "3028567e",
   "metadata": {},
   "outputs": [],
   "source": [
    "shot_type_dict = {}\n",
    "for index, row in data_pbp.iterrows():\n",
    "    if not pd.isnull(row['ShotType']):\n",
    "        if not row['ShotType'] in shot_type_dict:\n",
    "            shot_type_dict[row['ShotType']]=[0, 0]\n",
    "        if row['ShotOutcome'] == 'make':\n",
    "            shot_type_dict[row['ShotType']][0]+=1\n",
    "        if row['ShotOutcome'] == 'miss':\n",
    "            shot_type_dict[row['ShotType']][1]+=1"
   ]
  },
  {
   "cell_type": "code",
   "execution_count": 9,
   "id": "a19abcb0",
   "metadata": {},
   "outputs": [
    {
     "data": {
      "text/plain": [
       "{'2-pt jump shot': [21519, 29558],\n",
       " '2-pt layup': [30200, 25162],\n",
       " '3-pt jump shot': [28061, 50283],\n",
       " '2-pt hook shot': [2787, 3087],\n",
       " '2-pt dunk': [10512, 1228]}"
      ]
     },
     "execution_count": 9,
     "metadata": {},
     "output_type": "execute_result"
    }
   ],
   "source": [
    "shot_type_dict"
   ]
  },
  {
   "cell_type": "code",
   "execution_count": 30,
   "id": "8d166fb9",
   "metadata": {},
   "outputs": [],
   "source": [
    "df_shot = pd.DataFrame(columns=['type', 'make', 'miss', 'sum'])"
   ]
  },
  {
   "cell_type": "code",
   "execution_count": 35,
   "id": "8f9201f5",
   "metadata": {},
   "outputs": [],
   "source": [
    "for i in shot_type_dict:\n",
    "#     df_shot.append(pd.Series([i, shot_type_dict[i][0], shot_type_dict[i][1], \n",
    "#                     shot_type_dict[i][0]+shot_type_dict[i][1]]), ignore_index=True)\n",
    "#     print(pd.DataFrame([i, shot_type_dict[i][0], shot_type_dict[i][1], \n",
    "#                     shot_type_dict[i][0]+shot_type_dict[i][1]]).T)\n",
    "    new_row = {'type': i, 'make': shot_type_dict[i][0], 'miss': shot_type_dict[i][1], \\\n",
    "              'sum': shot_type_dict[i][0]+shot_type_dict[i][1]}\n",
    "    df_shot = df_shot.append(new_row, ignore_index=True)"
   ]
  },
  {
   "cell_type": "code",
   "execution_count": 36,
   "id": "f05fd4bb",
   "metadata": {},
   "outputs": [
    {
     "data": {
      "text/html": [
       "<div>\n",
       "<style scoped>\n",
       "    .dataframe tbody tr th:only-of-type {\n",
       "        vertical-align: middle;\n",
       "    }\n",
       "\n",
       "    .dataframe tbody tr th {\n",
       "        vertical-align: top;\n",
       "    }\n",
       "\n",
       "    .dataframe thead th {\n",
       "        text-align: right;\n",
       "    }\n",
       "</style>\n",
       "<table border=\"1\" class=\"dataframe\">\n",
       "  <thead>\n",
       "    <tr style=\"text-align: right;\">\n",
       "      <th></th>\n",
       "      <th>type</th>\n",
       "      <th>make</th>\n",
       "      <th>miss</th>\n",
       "      <th>sum</th>\n",
       "    </tr>\n",
       "  </thead>\n",
       "  <tbody>\n",
       "    <tr>\n",
       "      <th>0</th>\n",
       "      <td>2-pt jump shot</td>\n",
       "      <td>21519</td>\n",
       "      <td>29558</td>\n",
       "      <td>51077</td>\n",
       "    </tr>\n",
       "    <tr>\n",
       "      <th>1</th>\n",
       "      <td>2-pt layup</td>\n",
       "      <td>30200</td>\n",
       "      <td>25162</td>\n",
       "      <td>55362</td>\n",
       "    </tr>\n",
       "    <tr>\n",
       "      <th>2</th>\n",
       "      <td>3-pt jump shot</td>\n",
       "      <td>28061</td>\n",
       "      <td>50283</td>\n",
       "      <td>78344</td>\n",
       "    </tr>\n",
       "    <tr>\n",
       "      <th>3</th>\n",
       "      <td>2-pt hook shot</td>\n",
       "      <td>2787</td>\n",
       "      <td>3087</td>\n",
       "      <td>5874</td>\n",
       "    </tr>\n",
       "    <tr>\n",
       "      <th>4</th>\n",
       "      <td>2-pt dunk</td>\n",
       "      <td>10512</td>\n",
       "      <td>1228</td>\n",
       "      <td>11740</td>\n",
       "    </tr>\n",
       "  </tbody>\n",
       "</table>\n",
       "</div>"
      ],
      "text/plain": [
       "             type   make   miss    sum\n",
       "0  2-pt jump shot  21519  29558  51077\n",
       "1      2-pt layup  30200  25162  55362\n",
       "2  3-pt jump shot  28061  50283  78344\n",
       "3  2-pt hook shot   2787   3087   5874\n",
       "4       2-pt dunk  10512   1228  11740"
      ]
     },
     "execution_count": 36,
     "metadata": {},
     "output_type": "execute_result"
    }
   ],
   "source": [
    "df_shot"
   ]
  },
  {
   "cell_type": "code",
   "execution_count": 39,
   "id": "a2aa5063",
   "metadata": {},
   "outputs": [],
   "source": [
    "df_shot.to_csv('data/shot.csv', index=False)"
   ]
  },
  {
   "cell_type": "code",
   "execution_count": 6,
   "id": "458da413",
   "metadata": {},
   "outputs": [],
   "source": [
    "shot_type_dict = {}\n",
    "for item in data_pbp['ShotType'].values:\n",
    "    if not pd.isnull(item):\n",
    "        if item not in shot_type_dict:\n",
    "            shot_type_dict[item]=1\n",
    "        else:\n",
    "            shot_type_dict[item]+=1"
   ]
  },
  {
   "cell_type": "code",
   "execution_count": 7,
   "id": "d1ba08e2",
   "metadata": {},
   "outputs": [
    {
     "data": {
      "text/plain": [
       "{'2-pt jump shot': 51077,\n",
       " '2-pt layup': 55362,\n",
       " '3-pt jump shot': 78344,\n",
       " '2-pt hook shot': 5874,\n",
       " '2-pt dunk': 11740}"
      ]
     },
     "execution_count": 7,
     "metadata": {},
     "output_type": "execute_result"
    }
   ],
   "source": [
    "shot_type_dict"
   ]
  }
 ],
 "metadata": {
  "kernelspec": {
   "display_name": "Python 3 (ipykernel)",
   "language": "python",
   "name": "python3"
  },
  "language_info": {
   "codemirror_mode": {
    "name": "ipython",
    "version": 3
   },
   "file_extension": ".py",
   "mimetype": "text/x-python",
   "name": "python",
   "nbconvert_exporter": "python",
   "pygments_lexer": "ipython3",
   "version": "3.9.7"
  }
 },
 "nbformat": 4,
 "nbformat_minor": 5
}
